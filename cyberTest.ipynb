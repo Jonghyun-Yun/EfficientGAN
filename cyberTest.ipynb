{
  "cells": [
    {
      "cell_type": "code",
      "source": [
        "import tensorflow as tf\n",
        "print(tf.version.VERSION) # shuold be 2.3.1"
      ],
      "outputs": [
        {
          "output_type": "stream",
          "name": "stderr",
          "text": "2022-04-05 14:41:32.601297: W tensorflow/stream_executor/platform/default/dso_loader.cc:59] Could not load dynamic library 'libcudart.so.10.1'; dlerror: libcudart.so.10.1: cannot open shared object file: No such file or directory\n2022-04-05 14:41:32.601350: I tensorflow/stream_executor/cuda/cudart_stub.cc:29] Ignore above cudart dlerror if you do not have a GPU set up on your machine.\n"
        },
        {
          "output_type": "stream",
          "name": "stdout",
          "text": "2.3.1\n"
        }
      ],
      "execution_count": 1,
      "metadata": {
        "jupyter": {
          "source_hidden": false,
          "outputs_hidden": false
        },
        "nteract": {
          "transient": {
            "deleting": false
          }
        },
        "gather": {
          "logged": 1649169694845
        }
      }
    },
    {
      "cell_type": "code",
      "source": [
        "from model import EfficientGAN\n",
        "from sklearn.datasets import load_iris\n",
        "\n",
        "iris = load_iris()\n",
        "X_train, X_test, y_true = (iris['data'], iris['data'], iris['target'])\n",
        "\n",
        "model = EfficientGAN()\n",
        "model.fit(X_train, test=(X_test,y_true))\n",
        "proba = model.predict(X_test)"
      ],
      "outputs": [
        {
          "output_type": "stream",
          "name": "stderr",
          "text": "2022-04-05 14:41:47.771205: I tensorflow/stream_executor/platform/default/dso_loader.cc:48] Successfully opened dynamic library libcuda.so.1\n2022-04-05 14:41:48.036995: E tensorflow/stream_executor/cuda/cuda_driver.cc:314] failed call to cuInit: CUDA_ERROR_NO_DEVICE: no CUDA-capable device is detected\n2022-04-05 14:41:48.037064: I tensorflow/stream_executor/cuda/cuda_diagnostics.cc:156] kernel driver does not appear to be running on this host (ba-p-zeaus-746220sazmlci): /proc/driver/nvidia/version does not exist\n2022-04-05 14:41:48.038636: I tensorflow/core/platform/cpu_feature_guard.cc:142] This TensorFlow binary is optimized with oneAPI Deep Neural Network Library (oneDNN)to use the following CPU instructions in performance-critical operations:  AVX2 FMA\nTo enable them in other operations, rebuild TensorFlow with the appropriate compiler flags.\n2022-04-05 14:41:48.047776: I tensorflow/core/platform/profile_utils/cpu_utils.cc:104] CPU Frequency: 2294685000 Hz\n2022-04-05 14:41:48.049341: I tensorflow/compiler/xla/service/service.cc:168] XLA service 0x5635de088cf0 initialized for platform Host (this does not guarantee that XLA will be used). Devices:\n2022-04-05 14:41:48.049371: I tensorflow/compiler/xla/service/service.cc:176]   StreamExecutor device (0): Host, Default Version\n"
        },
        {
          "output_type": "stream",
          "name": "stdout",
          "text": "epoch0-> d_loss:1.9892976880073547  e_loss:0.30801618099212646  g_loss:0.8421429395675659  val_loss:-0.0586256292719946\n"
        }
      ],
      "execution_count": 2,
      "metadata": {
        "jupyter": {
          "source_hidden": false,
          "outputs_hidden": false
        },
        "nteract": {
          "transient": {
            "deleting": false
          }
        },
        "gather": {
          "logged": 1649169723930
        }
      }
    },
    {
      "cell_type": "code",
      "source": [
        "import umap\r\n",
        "import umap.plot\r\n",
        "import matplotlib.pyplot as plt"
      ],
      "outputs": [],
      "execution_count": 7,
      "metadata": {
        "jupyter": {
          "source_hidden": false,
          "outputs_hidden": false
        },
        "nteract": {
          "transient": {
            "deleting": false
          }
        },
        "gather": {
          "logged": 1649170197298
        }
      }
    },
    {
      "cell_type": "code",
      "source": [
        "mapper = umap.UMAP(random_state=42).fit(X_test)\r\n",
        "umap.plot.points(mapper, labels=(1 * (proba > 11)))"
      ],
      "outputs": [
        {
          "output_type": "execute_result",
          "execution_count": 15,
          "data": {
            "text/plain": "<AxesSubplot:>"
          },
          "metadata": {}
        },
        {
          "output_type": "display_data",
          "data": {
            "text/plain": "<Figure size 800x800 with 1 Axes>",
            "image/png": "[encoded data removed]"
          },
          "metadata": {}
        }
      ],
      "execution_count": 15,
      "metadata": {
        "jupyter": {
          "source_hidden": false,
          "outputs_hidden": false
        },
        "nteract": {
          "transient": {
            "deleting": false
          }
        },
        "gather": {
          "logged": 1649170417391
        }
      }
    }
  ],
  "metadata": {
    "kernelspec": {
      "name": "tf_2.3.1",
      "language": "python",
      "display_name": "tf_2.3.1"
    },
    "language_info": {
      "name": "python",
      "version": "3.8.3",
      "mimetype": "text/x-python",
      "codemirror_mode": {
        "name": "ipython",
        "version": 3
      },
      "pygments_lexer": "ipython3",
      "nbconvert_exporter": "python",
      "file_extension": ".py"
    },
    "kernel_info": {
      "name": "tf_2.3.1"
    },
    "nteract": {
      "version": "nteract-front-end@1.0.0"
    },
    "microsoft": {
      "host": {
        "AzureML": {
          "notebookHasBeenCompleted": true
        }
      }
    }
  },
  "nbformat": 4,
  "nbformat_minor": 2
}